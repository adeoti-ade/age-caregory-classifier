{
 "cells": [
  {
   "cell_type": "code",
   "execution_count": 1,
   "metadata": {},
   "outputs": [],
   "source": [
    "import tensorflow as tf\n",
    "from tensorflow.keras.optimizers import SGD\n",
    "from tensorflow.keras.preprocessing.image import ImageDataGenerator\n",
    "from pathlib import Path\n",
    "import PIL\n",
    "import PIL.Image\n",
    "opt = SGD(lr=0.1)"
   ]
  },
  {
   "cell_type": "code",
   "execution_count": 2,
   "metadata": {},
   "outputs": [],
   "source": [
    "train_dir = Path(\"train/\")\n",
    "val_dir = Path(\"validation/\")"
   ]
  },
  {
   "cell_type": "code",
   "execution_count": 3,
   "metadata": {},
   "outputs": [],
   "source": [
    "image_count = len(list(train_dir.glob(\"*/*.jpeg\")))"
   ]
  },
  {
   "cell_type": "code",
   "execution_count": 4,
   "metadata": {},
   "outputs": [
    {
     "data": {
      "text/plain": [
       "16593"
      ]
     },
     "execution_count": 4,
     "metadata": {},
     "output_type": "execute_result"
    }
   ],
   "source": [
    "image_count"
   ]
  },
  {
   "cell_type": "code",
   "execution_count": 5,
   "metadata": {},
   "outputs": [],
   "source": [
    "children = list(train_dir.glob(\"children/*.jpeg\"))"
   ]
  },
  {
   "cell_type": "code",
   "execution_count": 6,
   "metadata": {},
   "outputs": [],
   "source": [
    "adult = list(train_dir.glob(\"adult/*.jpeg\"))"
   ]
  },
  {
   "cell_type": "code",
   "execution_count": 7,
   "metadata": {},
   "outputs": [
    {
     "data": {
      "image/png": "[encoded data removed]",
      "text/plain": [
       "<PIL.JpegImagePlugin.JpegImageFile image mode=L size=48x48 at 0x7FBBD426FAC8>"
      ]
     },
     "execution_count": 7,
     "metadata": {},
     "output_type": "execute_result"
    }
   ],
   "source": [
    "PIL.Image.open(str(children[0]))"
   ]
  },
  {
   "cell_type": "code",
   "execution_count": 8,
   "metadata": {},
   "outputs": [
    {
     "data": {
      "text/plain": [
       "PosixPath('train/children/children_4837.jpeg')"
      ]
     },
     "execution_count": 8,
     "metadata": {},
     "output_type": "execute_result"
    }
   ],
   "source": [
    "children[0]"
   ]
  },
  {
   "cell_type": "code",
   "execution_count": 9,
   "metadata": {},
   "outputs": [],
   "source": [
    "batch_size = 16\n",
    "img_height = 48\n",
    "img_width = 48"
   ]
  },
  {
   "cell_type": "code",
   "execution_count": 10,
   "metadata": {},
   "outputs": [],
   "source": [
    "train_datagen = ImageDataGenerator(rescale=1./255)\n",
    "validation_datagen = ImageDataGenerator(rescale=1./255)"
   ]
  },
  {
   "cell_type": "code",
   "execution_count": 11,
   "metadata": {},
   "outputs": [
    {
     "name": "stdout",
     "output_type": "stream",
     "text": [
      "Found 16593 images belonging to 5 classes.\n"
     ]
    }
   ],
   "source": [
    "train_ds = train_datagen.flow_from_directory(\n",
    "    train_dir,\n",
    "    target_size=(img_height, img_width),\n",
    "    batch_size=batch_size,\n",
    ")"
   ]
  },
  {
   "cell_type": "code",
   "execution_count": 12,
   "metadata": {},
   "outputs": [
    {
     "name": "stdout",
     "output_type": "stream",
     "text": [
      "Found 6400 images belonging to 5 classes.\n"
     ]
    }
   ],
   "source": [
    "val_ds = train_datagen.flow_from_directory(\n",
    "    val_dir,\n",
    "    target_size=(img_height, img_width),\n",
    "    batch_size=batch_size\n",
    ")"
   ]
  },
  {
   "cell_type": "code",
   "execution_count": 13,
   "metadata": {},
   "outputs": [],
   "source": [
    "data_augmentation = tf.keras.Sequential([\n",
    "    tf.keras.layers.experimental.preprocessing.RandomFlip(\"horizontal_and_vertical\"),\n",
    "    tf.keras.layers.experimental.preprocessing.RandomRotation(0.2),\n",
    "])\n",
    "resize_and_rescale = tf.keras.Sequential([\n",
    "  tf.keras.layers.experimental.preprocessing.Resizing(32, 32),\n",
    "  tf.keras.layers.experimental.preprocessing.Rescaling(1./255)\n",
    "])"
   ]
  },
  {
   "cell_type": "code",
   "execution_count": 14,
   "metadata": {},
   "outputs": [],
   "source": [
    "model = tf.keras.Sequential([\n",
    "    tf.keras.layers.Conv2D(16, (3,3), padding='same', activation=\"relu\", input_shape=(img_height, img_width, 3)),\n",
    "    tf.keras.layers.MaxPool2D(2,2),\n",
    "    tf.keras.layers.Dropout(0.2),\n",
    "    tf.keras.layers.Flatten(),\n",
    "    tf.keras.layers.Dense(512, activation=\"relu\", kernel_regularizer=tf.keras.regularizers.l2(0.001)),\n",
    "    tf.keras.layers.Dense(256, activation=\"relu\", kernel_regularizer=tf.keras.regularizers.l2(0.001)),\n",
    "    tf.keras.layers.Dense(128, activation=\"relu\", kernel_regularizer=tf.keras.regularizers.l2(0.001)),\n",
    "    tf.keras.layers.Dense(5, activation=\"softmax\")]\n",
    ")"
   ]
  },
  {
   "cell_type": "code",
   "execution_count": 79,
   "metadata": {},
   "outputs": [],
   "source": [
    "model.build()"
   ]
  },
  {
   "cell_type": "code",
   "execution_count": 15,
   "metadata": {},
   "outputs": [],
   "source": [
    "model.compile(\n",
    "    loss = \"categorical_crossentropy\", \n",
    "    optimizer = opt,\n",
    "    metrics=[\"accuracy\"]\n",
    ")"
   ]
  },
  {
   "cell_type": "code",
   "execution_count": 16,
   "metadata": {},
   "outputs": [
    {
     "name": "stdout",
     "output_type": "stream",
     "text": [
      "Model: \"sequential_2\"\n",
      "_________________________________________________________________\n",
      "Layer (type)                 Output Shape              Param #   \n",
      "=================================================================\n",
      "conv2d (Conv2D)              (None, 48, 48, 16)        448       \n",
      "_________________________________________________________________\n",
      "max_pooling2d (MaxPooling2D) (None, 24, 24, 16)        0         \n",
      "_________________________________________________________________\n",
      "dropout (Dropout)            (None, 24, 24, 16)        0         \n",
      "_________________________________________________________________\n",
      "flatten (Flatten)            (None, 9216)              0         \n",
      "_________________________________________________________________\n",
      "dense (Dense)                (None, 512)               4719104   \n",
      "_________________________________________________________________\n",
      "dense_1 (Dense)              (None, 256)               131328    \n",
      "_________________________________________________________________\n",
      "dense_2 (Dense)              (None, 128)               32896     \n",
      "_________________________________________________________________\n",
      "dense_3 (Dense)              (None, 5)                 645       \n",
      "=================================================================\n",
      "Total params: 4,884,421\n",
      "Trainable params: 4,884,421\n",
      "Non-trainable params: 0\n",
      "_________________________________________________________________\n"
     ]
    }
   ],
   "source": [
    "model.summary()"
   ]
  },
  {
   "cell_type": "code",
   "execution_count": 17,
   "metadata": {},
   "outputs": [
    {
     "name": "stdout",
     "output_type": "stream",
     "text": [
      "Epoch 1/20\n",
      "1038/1038 [==============================] - 35s 34ms/step - loss: 2.5937 - accuracy: 0.4061 - val_loss: 2.2745 - val_accuracy: 0.4728\n",
      "Epoch 2/20\n",
      "1038/1038 [==============================] - 35s 34ms/step - loss: 2.0309 - accuracy: 0.4949 - val_loss: 1.8309 - val_accuracy: 0.4936\n",
      "Epoch 3/20\n",
      "1038/1038 [==============================] - 35s 34ms/step - loss: 1.7076 - accuracy: 0.5285 - val_loss: 1.5888 - val_accuracy: 0.5362\n",
      "Epoch 4/20\n",
      "1038/1038 [==============================] - 35s 34ms/step - loss: 1.5104 - accuracy: 0.5404 - val_loss: 1.4574 - val_accuracy: 0.5384\n",
      "Epoch 5/20\n",
      "1038/1038 [==============================] - 36s 34ms/step - loss: 1.3777 - accuracy: 0.5529 - val_loss: 1.3435 - val_accuracy: 0.5556\n",
      "Epoch 6/20\n",
      "1038/1038 [==============================] - 36s 34ms/step - loss: 1.2961 - accuracy: 0.5739 - val_loss: 1.3558 - val_accuracy: 0.5380\n",
      "Epoch 7/20\n",
      "1038/1038 [==============================] - 36s 35ms/step - loss: 1.2363 - accuracy: 0.5852 - val_loss: 1.3428 - val_accuracy: 0.5314\n",
      "Epoch 8/20\n",
      "1038/1038 [==============================] - 36s 35ms/step - loss: 1.2652 - accuracy: 0.5879 - val_loss: 1.3745 - val_accuracy: 0.5370\n",
      "Epoch 9/20\n",
      "1038/1038 [==============================] - 37s 36ms/step - loss: 1.2148 - accuracy: 0.6021 - val_loss: 1.4186 - val_accuracy: 0.5306\n",
      "Epoch 10/20\n",
      "1038/1038 [==============================] - 37s 36ms/step - loss: 1.1956 - accuracy: 0.6116 - val_loss: 1.4222 - val_accuracy: 0.5303\n",
      "Epoch 11/20\n",
      "1038/1038 [==============================] - 37s 36ms/step - loss: 1.1844 - accuracy: 0.6314 - val_loss: 1.4305 - val_accuracy: 0.5130\n",
      "Epoch 12/20\n",
      "1038/1038 [==============================] - 38s 36ms/step - loss: 1.2052 - accuracy: 0.6360 - val_loss: 1.4563 - val_accuracy: 0.5158\n",
      "Epoch 13/20\n",
      "1038/1038 [==============================] - 38s 37ms/step - loss: 1.1881 - accuracy: 0.6574 - val_loss: 1.4721 - val_accuracy: 0.5439\n",
      "Epoch 14/20\n",
      "1038/1038 [==============================] - 38s 37ms/step - loss: 1.1990 - accuracy: 0.6669 - val_loss: 1.5189 - val_accuracy: 0.5442\n",
      "Epoch 15/20\n",
      "1038/1038 [==============================] - 38s 37ms/step - loss: 1.1960 - accuracy: 0.6851 - val_loss: 1.5741 - val_accuracy: 0.5289\n",
      "Epoch 16/20\n",
      "1038/1038 [==============================] - 38s 37ms/step - loss: 1.2196 - accuracy: 0.6977 - val_loss: 1.6644 - val_accuracy: 0.5273\n",
      "Epoch 17/20\n",
      "1038/1038 [==============================] - 38s 37ms/step - loss: 1.2229 - accuracy: 0.7083 - val_loss: 1.7845 - val_accuracy: 0.5061\n",
      "Epoch 18/20\n",
      "1038/1038 [==============================] - 38s 37ms/step - loss: 1.2316 - accuracy: 0.7238 - val_loss: 1.7576 - val_accuracy: 0.5366\n",
      "Epoch 19/20\n",
      "1038/1038 [==============================] - 38s 37ms/step - loss: 1.2693 - accuracy: 0.7321 - val_loss: 1.8502 - val_accuracy: 0.5288\n",
      "Epoch 20/20\n",
      "1038/1038 [==============================] - 38s 37ms/step - loss: 1.2983 - accuracy: 0.7362 - val_loss: 1.9441 - val_accuracy: 0.5117\n"
     ]
    },
    {
     "data": {
      "text/plain": [
       "<tensorflow.python.keras.callbacks.History at 0x7fbbc9110048>"
      ]
     },
     "execution_count": 17,
     "metadata": {},
     "output_type": "execute_result"
    }
   ],
   "source": [
    "model.fit(train_ds, validation_data=val_ds, epochs=20)"
   ]
  },
  {
   "cell_type": "code",
   "execution_count": null,
   "metadata": {},
   "outputs": [],
   "source": [
    "model.evaluate"
   ]
  }
 ],
 "metadata": {
  "kernelspec": {
   "display_name": "Python 3",
   "language": "python",
   "name": "python3"
  },
  "language_info": {
   "codemirror_mode": {
    "name": "ipython",
    "version": 3
   },
   "file_extension": ".py",
   "mimetype": "text/x-python",
   "name": "python",
   "nbconvert_exporter": "python",
   "pygments_lexer": "ipython3",
   "version": "3.7.3"
  }
 },
 "nbformat": 4,
 "nbformat_minor": 4
}
